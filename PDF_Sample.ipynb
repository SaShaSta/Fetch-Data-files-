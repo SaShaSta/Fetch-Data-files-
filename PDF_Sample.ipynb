{
  "nbformat": 4,
  "nbformat_minor": 0,
  "metadata": {
    "colab": {
      "provenance": []
    },
    "kernelspec": {
      "name": "python3",
      "display_name": "Python 3"
    },
    "language_info": {
      "name": "python"
    }
  },
  "cells": [
    {
      "cell_type": "code",
      "execution_count": null,
      "metadata": {
        "id": "mF58VLKBWsVp"
      },
      "outputs": [],
      "source": [
        "import PyPDF2\n",
        "\n",
        "# Replace 'C:/Users/YourUsername/Desktop/sample.pdf' with the path to your PDF file\n",
        "file_path = 'C:/Users/YourUsername/Desktop/sample.pdf'\n",
        "\n",
        "# Function to extract specific lines of interest from text\n",
        "def extract_lines(text, keywords):\n",
        "    lines = text.split('\\n')\n",
        "    extracted_data = []\n",
        "    for line in lines:\n",
        "        for keyword in keywords:\n",
        "            if keyword in line:\n",
        "                extracted_data.append(line)\n",
        "    return extracted_data\n",
        "\n",
        "# Open the PDF file\n",
        "with open(file_path, 'rb') as file:\n",
        "    reader = PyPDF2.PdfReader(file)\n",
        "\n",
        "    # Page 1 data\n",
        "    page1_keywords = [\"Write What You Want To Fetch\"]\n",
        "    #reader.pages[page_number]  # Corrected line\n",
        "    page1_text = reader.pages[0].extract_text()\n",
        "    page1_data = extract_lines(page1_text, page1_keywords)\n",
        "    print(\"Page 1 Data:\")\n",
        "    print(\"\\n\".join(page1_data))\n",
        "    print(\"\\n\")\n",
        "\n",
        "    # Page 2 data\n",
        "    page2_keywords = [ \"Write What You Want To Fetch\"]\n",
        "    page2_text = reader.pages[1].extract_text()\n",
        "    page2_data = extract_lines(page2_text, page2_keywords)\n",
        "    print(\"Page 2 Data:\")\n",
        "    print(\"\\n\".join(page2_data))\n",
        "    print(\"\\n\")\n",
        "\n",
        "    # Page 5 data\n",
        "    page5_keywords = [\"Write What You Want To Fetch\"]\n",
        "    page5_text = reader.pages[4].extract_text()\n",
        "    page5_data = extract_lines(page5_text, page5_keywords)\n",
        "    print(\"Page 5 Data:\")\n",
        "    print(\"\\n\".join(page5_data))\n",
        "    print(\"\\n\")\n",
        "\n",
        "\n",
        "    # Page 7 data\n",
        "    page7_keywords = [\"Write What You Want To Fetch\"]\n",
        "    page7_text = reader.pages[6].extract_text()\n",
        "    page7_data = extract_lines(page7_text, page7_keywords)\n",
        "    print(\"Page 7 Data:\")\n",
        "    print(\"\\n\".join(page7_data))\n",
        "    print(\"\\n\")\n",
        "\n",
        "    # Page 8 data\n",
        "    page8_keywords = [\"Write What You Want To Fetch\"\n",
        "    ]\n",
        "    page8_text = reader.pages[7].extract_text()\n",
        "    page8_data = extract_lines(page8_text, page8_keywords)\n",
        "    print(\"Page 8 Data:\")\n",
        "    print(\"\\n\".join(page8_data))\n",
        "    print(\"\\n\")\n"
      ]
    }
  ]
}
